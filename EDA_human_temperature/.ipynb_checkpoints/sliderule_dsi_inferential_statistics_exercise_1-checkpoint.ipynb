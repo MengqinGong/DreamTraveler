{
 "cells": [
  {
   "cell_type": "markdown",
   "metadata": {},
   "source": [
    "# What is the True Normal Human Body Temperature? \n",
    "\n",
    "#### Background\n",
    "\n",
    "The mean normal body temperature was held to be 37$^{\\circ}$C or 98.6$^{\\circ}$F for more than 120 years since it was first conceptualized and reported by Carl Wunderlich in a famous 1868 book. But, is this value statistically correct?"
   ]
  },
  {
   "cell_type": "markdown",
   "metadata": {},
   "source": [
    "<h3>Exercises</h3>\n",
    "\n",
    "<p>In this exercise, you will analyze a dataset of human body temperatures and employ the concepts of hypothesis testing, confidence intervals, and statistical significance.</p>\n",
    "\n",
    "<p>Answer the following questions <b>in this notebook below and submit to your Github account</b>.</p> \n",
    "\n",
    "<ol>\n",
    "<li>  Is the distribution of body temperatures normal? \n",
    "    <ul>\n",
    "    <li> Although this is not a requirement for the Central Limit Theorem to hold (read the introduction on Wikipedia's page about the CLT carefully: https://en.wikipedia.org/wiki/Central_limit_theorem), it gives us some peace of mind that the population may also be normally distributed if we assume that this sample is representative of the population.\n",
    "    <li> Think about the way you're going to check for the normality of the distribution. Graphical methods are usually used first, but there are also other ways: https://en.wikipedia.org/wiki/Normality_test\n",
    "    </ul>\n",
    "<li>  Is the sample size large? Are the observations independent?\n",
    "    <ul>\n",
    "    <li> Remember that this is a condition for the Central Limit Theorem, and hence the statistical tests we are using, to apply.\n",
    "    </ul>\n",
    "<li>  Is the true population mean really 98.6 degrees F?\n",
    "    <ul>\n",
    "    <li> First, try a bootstrap hypothesis test.\n",
    "    <li> Now, let's try frequentist statistical testing. Would you use a one-sample or two-sample test? Why?\n",
    "    <li> In this situation, is it appropriate to use the $t$ or $z$ statistic? \n",
    "    <li> Now try using the other test. How is the result be different? Why?\n",
    "    </ul>\n",
    "<li>  Draw a small sample of size 10 from the data and repeat both frequentist tests. \n",
    "    <ul>\n",
    "    <li> Which one is the correct one to use? \n",
    "    <li> What do you notice? What does this tell you about the difference in application of the $t$ and $z$ statistic?\n",
    "    </ul>\n",
    "<li>  At what temperature should we consider someone's temperature to be \"abnormal\"?\n",
    "    <ul>\n",
    "    <li> As in the previous example, try calculating everything using the boostrap approach, as well as the frequentist approach.\n",
    "    <li> Start by computing the margin of error and confidence interval. When calculating the confidence interval, keep in mind that you should use the appropriate formula for one draw, and not N draws.\n",
    "    </ul>\n",
    "<li>  Is there a significant difference between males and females in normal temperature?\n",
    "    <ul>\n",
    "    <li> What testing approach did you use and why?\n",
    "    <li> Write a story with your conclusion in the context of the original problem.\n",
    "    </ul>\n",
    "</ol>\n",
    "\n",
    "You can include written notes in notebook cells using Markdown: \n",
    "   - In the control panel at the top, choose Cell > Cell Type > Markdown\n",
    "   - Markdown syntax: http://nestacms.com/docs/creating-content/markdown-cheat-sheet\n",
    "\n",
    "#### Resources\n",
    "\n",
    "+ Information and data sources: http://www.amstat.org/publications/jse/datasets/normtemp.txt, http://www.amstat.org/publications/jse/jse_data_archive.htm\n",
    "+ Markdown syntax: http://nestacms.com/docs/creating-content/markdown-cheat-sheet\n",
    "\n",
    "****"
   ]
  },
  {
   "cell_type": "code",
   "execution_count": 6,
   "metadata": {},
   "outputs": [],
   "source": [
    "%matplotlib inline\n",
    "import pandas as pd\n",
    "import matplotlib.pyplot as plt\n",
    "import seaborn as sns\n",
    "import numpy as np\n",
    "\n",
    "df = pd.read_csv('data/human_body_temperature.csv')"
   ]
  },
  {
   "cell_type": "markdown",
   "metadata": {
    "collapsed": true
   },
   "source": [
    "# 1. Is the distribution of body temperatures normal?\n",
    "\n",
    "According to the histogram and QQ plot. The body temperature data is normal distributed."
   ]
  },
  {
   "cell_type": "code",
   "execution_count": 4,
   "metadata": {},
   "outputs": [
    {
     "name": "stdout",
     "output_type": "stream",
     "text": [
      "   temperature gender  heart_rate\n",
      "0         99.3      F        68.0\n",
      "1         98.4      F        81.0\n",
      "2         97.8      M        73.0\n",
      "3         99.2      F        66.0\n",
      "4         98.0      F        73.0\n",
      "<class 'pandas.core.frame.DataFrame'>\n",
      "RangeIndex: 130 entries, 0 to 129\n",
      "Data columns (total 3 columns):\n",
      "temperature    130 non-null float64\n",
      "gender         130 non-null object\n",
      "heart_rate     130 non-null float64\n",
      "dtypes: float64(2), object(1)\n",
      "memory usage: 3.1+ KB\n",
      "None\n"
     ]
    }
   ],
   "source": [
    "# check the data\n",
    "print(df.head())\n",
    "print(df.info())"
   ]
  },
  {
   "cell_type": "code",
   "execution_count": 8,
   "metadata": {},
   "outputs": [
    {
     "data": {
      "text/plain": [
       "(array([0.04102564, 0.1025641 , 0.24615385, 0.18461538, 0.53333333,\n",
       "        0.55384615, 0.61538462, 0.22564103, 0.1025641 , 0.04102564,\n",
       "        0.        , 0.02051282]),\n",
       " array([ 96.3  ,  96.675,  97.05 ,  97.425,  97.8  ,  98.175,  98.55 ,\n",
       "         98.925,  99.3  ,  99.675, 100.05 , 100.425, 100.8  ]),\n",
       " <a list of 12 Patch objects>)"
      ]
     },
     "execution_count": 8,
     "metadata": {},
     "output_type": "execute_result"
    },
    {
     "data": {
      "image/png": "[encoded data removed]",
      "text/plain": [
       "<Figure size 432x288 with 1 Axes>"
      ]
     },
     "metadata": {},
     "output_type": "display_data"
    }
   ],
   "source": [
    "# check the distribution of temperature column\n",
    "plt.hist(df.temperature, bins=12, density=True)"
   ]
  },
  {
   "cell_type": "code",
   "execution_count": 10,
   "metadata": {},
   "outputs": [
    {
     "data": {
      "image/png": "[encoded data removed]",
      "text/plain": [
       "<Figure size 432x288 with 1 Axes>"
      ]
     },
     "metadata": {},
     "output_type": "display_data"
    }
   ],
   "source": [
    "# QQ Plot\n",
    "from statsmodels.graphics.gofplots import qqplot\n",
    "qqplot(df.temperature, line='s')\n",
    "plt.show()\n",
    "# The data is normal distributed with 1 outlier"
   ]
  },
  {
   "cell_type": "markdown",
   "metadata": {},
   "source": [
    "# 2. Is the sample size large? Are the observations independent?\n",
    "\n",
    "The sample size (130 entries) is sufficiently large (>30).\n",
    "Observations are body temperature, gender and heart rate of different individuals, are independent from each other."
   ]
  },
  {
   "cell_type": "markdown",
   "metadata": {},
   "source": [
    "# 3. Is the true population mean really 98.6 degrees F?"
   ]
  },
  {
   "cell_type": "code",
   "execution_count": 20,
   "metadata": {},
   "outputs": [
    {
     "data": {
      "image/png": "[encoded data removed]",
      "text/plain": [
       "<Figure size 432x288 with 1 Axes>"
      ]
     },
     "metadata": {},
     "output_type": "display_data"
    },
    {
     "name": "stdout",
     "output_type": "stream",
     "text": [
      "-0.35076923076921673\n"
     ]
    }
   ],
   "source": [
    "# Bootstrap hypothesis testing\n",
    "bs_temp_diff = np.empty(10000)\n",
    "temp_shifted = df.temperature - np.mean(df.temperature) + 98.6\n",
    "diff_mean = np.mean(df.temperature) - 98.6\n",
    "for i in range(10000): \n",
    "    bs_sample = np.random.choice(temp_shifted, size=len(temp_shifted))\n",
    "    bs_temp_diff[i] = np.mean(bs_sample) - 98.6\n",
    "plt.hist(bs_temp_diff, bins=100, density=True)\n",
    "plt.show()\n",
    "print(diff_mean)"
   ]
  },
  {
   "cell_type": "code",
   "execution_count": 21,
   "metadata": {},
   "outputs": [
    {
     "name": "stdout",
     "output_type": "stream",
     "text": [
      "0.0\n"
     ]
    }
   ],
   "source": [
    "p_value = np.sum(bs_temp_diff <= diff_mean) / 10000\n",
    "print(p_value)"
   ]
  },
  {
   "cell_type": "markdown",
   "metadata": {},
   "source": [
    "According to the bootstrap hypothesis testing, we need to reject the null hypothesis that the population mean of temperature is 98.6 degrees F. \n",
    "\n",
    "In terms of frequentist statistical testing, a one-sample test applies here because we are going to compare the sample mean with a known population mean.  \n",
    "\n",
    "z test is appropriate here b/c the sample size is large enough and the temperature is normal distributed.\n",
    "\n",
    "H<sub>0</sub>: The population mean is 98.6<br>\n",
    "H<sub>A</sub>: The population mean is not 98.6"
   ]
  },
  {
   "cell_type": "code",
   "execution_count": 40,
   "metadata": {},
   "outputs": [
    {
     "name": "stdout",
     "output_type": "stream",
     "text": [
      "-5.475925202078116\n"
     ]
    }
   ],
   "source": [
    "# One Sample z-test\n",
    "sample_mean = np.mean(df.temperature)\n",
    "z_stat = (sample_mean-98.6) / (np.sqrt(np.var(df.temperature)/len(df.temperature)))\n",
    "print(z_stat)"
   ]
  },
  {
   "cell_type": "markdown",
   "metadata": {},
   "source": [
    "p value << 0.001, reject the null hypothesis."
   ]
  },
  {
   "cell_type": "code",
   "execution_count": 41,
   "metadata": {},
   "outputs": [
    {
     "name": "stdout",
     "output_type": "stream",
     "text": [
      "-5.454823292364077 129\n"
     ]
    }
   ],
   "source": [
    "# t-test\n",
    "sample_variance = np.sum((df.temperature-sample_mean)**2) / (len(df.temperature)-1)\n",
    "t_stat = (sample_mean-98.6) / (np.sqrt(sample_variance/len(df.temperature)))\n",
    "print(t_stat, len(df.temperature)-1)"
   ]
  },
  {
   "cell_type": "markdown",
   "metadata": {},
   "source": [
    "p value << 0.001, reject the null hypothesis"
   ]
  },
  {
   "cell_type": "markdown",
   "metadata": {},
   "source": [
    "# 4. Draw a small sample of size 10 from the data and repeat both frequentist tests."
   ]
  },
  {
   "cell_type": "code",
   "execution_count": 42,
   "metadata": {},
   "outputs": [],
   "source": [
    "sample_temp = np.random.choice(df.temperature, size=10)"
   ]
  },
  {
   "cell_type": "code",
   "execution_count": 43,
   "metadata": {},
   "outputs": [
    {
     "name": "stdout",
     "output_type": "stream",
     "text": [
      "-1.8907872500901206 9\n"
     ]
    }
   ],
   "source": [
    "# One Sample t-test\n",
    "sample_mean = np.mean(sample_temp)\n",
    "sample_variance = np.sum((sample_temp-sample_mean)**2) / (len(sample_temp)-1)\n",
    "t_stat = (sample_mean-98.6) / (np.sqrt(sample_variance/len(sample_temp)))\n",
    "print(t_stat, len(sample_temp)-1)"
   ]
  },
  {
   "cell_type": "markdown",
   "metadata": {},
   "source": [
    "p value = 0.0912 > 0.05, fail to reject null hypothesis"
   ]
  },
  {
   "cell_type": "code",
   "execution_count": 44,
   "metadata": {},
   "outputs": [
    {
     "name": "stdout",
     "output_type": "stream",
     "text": [
      "-1.9930647603637306\n"
     ]
    }
   ],
   "source": [
    "# z-test\n",
    "z_score = (sample_mean-98.6) / (np.sqrt(np.var(sample_temp)/len(sample_temp)))\n",
    "print(z_score)"
   ]
  },
  {
   "cell_type": "markdown",
   "metadata": {},
   "source": [
    "p value = 0.0463 < 0.05, reject null hypothesis"
   ]
  },
  {
   "cell_type": "markdown",
   "metadata": {},
   "source": [
    "# 5. At what temperature should we consider someone's temperature to be \"abnormal\"?"
   ]
  },
  {
   "cell_type": "code",
   "execution_count": 35,
   "metadata": {},
   "outputs": [
    {
     "name": "stdout",
     "output_type": "stream",
     "text": [
      "[98.12305769 98.37461538]\n"
     ]
    }
   ],
   "source": [
    "# Bootstrap\n",
    "bs_mean_temp = np.empty(10000)\n",
    "for i in range(10000):\n",
    "    bs_temp = np.random.choice(df.temperature, size=len(df.temperature))\n",
    "    bs_mean_temp[i] = np.mean(bs_temp)\n",
    "    \n",
    "# 95% confidence interval\n",
    "print(np.percentile(bs_mean_temp, [2.5, 97.5]))"
   ]
  },
  {
   "cell_type": "markdown",
   "metadata": {},
   "source": [
    "So when the temperature is under 98.12 or over 98.37 degrees we should consider it abnormal."
   ]
  },
  {
   "cell_type": "code",
   "execution_count": 36,
   "metadata": {},
   "outputs": [
    {
     "name": "stdout",
     "output_type": "stream",
     "text": [
      "[98.12367980442819, 98.37478173403336]\n"
     ]
    }
   ],
   "source": [
    "# Frequentist approach\n",
    "sample_mean = np.mean(df.temperature)\n",
    "sample_standard_error = np.std(df.temperature)\n",
    "moe = 1.96 * sample_standard_error / np.sqrt(len(df.temperature))\n",
    "\n",
    "# 95% confidence interval\n",
    "print('['+ str(sample_mean-moe) + ', ' + str(sample_mean+moe) + ']')"
   ]
  },
  {
   "cell_type": "markdown",
   "metadata": {},
   "source": [
    "So when the temperature is under 98.12 or over 98.37 degrees we should consider it abnormal."
   ]
  },
  {
   "cell_type": "markdown",
   "metadata": {},
   "source": [
    "# 6. Is there a significant difference between males and females in normal temperature?"
   ]
  },
  {
   "cell_type": "markdown",
   "metadata": {},
   "source": [
    "First let's check out the boxplot. According to the boxplot, females have a higher mean body temperature than males. "
   ]
  },
  {
   "cell_type": "code",
   "execution_count": 45,
   "metadata": {},
   "outputs": [
    {
     "name": "stdout",
     "output_type": "stream",
     "text": [
      "M    65\n",
      "F    65\n",
      "Name: gender, dtype: int64\n"
     ]
    },
    {
     "data": {
      "image/png": "[encoded data removed]",
      "text/plain": [
       "<Figure size 432x288 with 1 Axes>"
      ]
     },
     "metadata": {},
     "output_type": "display_data"
    }
   ],
   "source": [
    "sns.boxplot(x='gender', y='temperature', data=df)\n",
    "print(df.gender.value_counts())"
   ]
  },
  {
   "cell_type": "markdown",
   "metadata": {},
   "source": [
    "In order to compare the mean body temperature between genders, we can do a hypothesis testing. \n",
    "\n",
    "H<sub>0</sub>: $\\mu$<sub>female</sub> = $\\mu$<sub>male</sub><br>\n",
    "H<sub>A</sub>: $\\mu$<sub>female</sub> $\\geqslant$ $\\mu$<sub>male</sub><br>\n",
    "\n",
    "A two sample z test is appropriate here as the sample size is large enough for each gender group."
   ]
  },
  {
   "cell_type": "code",
   "execution_count": 48,
   "metadata": {},
   "outputs": [
    {
     "name": "stdout",
     "output_type": "stream",
     "text": [
      "2.3032202891940123\n"
     ]
    }
   ],
   "source": [
    "f_temp = df[df.gender=='F'].temperature\n",
    "m_temp = df[df.gender=='M'].temperature\n",
    "diff_mean = np.mean(f_temp) - np.mean(m_temp)\n",
    "diff_se = np.sqrt(np.var(f_temp)/len(f_temp) + np.var(m_temp)/len(m_temp))\n",
    "z_score = diff_mean/diff_se\n",
    "print(z_score)"
   ]
  },
  {
   "cell_type": "markdown",
   "metadata": {},
   "source": [
    "p value = 0.0107 < 0.05, reject the null hypothesis. We can conclude that females have higher mean body temperature than males.\n",
    "\n",
    "Bootstrap can be used in this case as well."
   ]
  },
  {
   "cell_type": "code",
   "execution_count": 50,
   "metadata": {},
   "outputs": [
    {
     "name": "stdout",
     "output_type": "stream",
     "text": [
      "0.0024\n"
     ]
    }
   ],
   "source": [
    "# Bootstrap\n",
    "\n",
    "diff_mean_bs = np.empty(10000)\n",
    "\n",
    "for i in range(1000):\n",
    "    bs_sample = np.random.choice(df.temperature, size=len(df.temperature))\n",
    "    f_sample = bs_sample[:len(f_temp)]\n",
    "    m_sample = bs_sample[len(f_temp):]\n",
    "    diff_mean_bs[i] = np.mean(f_sample) - np.mean(m_sample)\n",
    "\n",
    "p_value = np.sum(diff_mean_bs >= diff_mean)/10000\n",
    "print(p_value)"
   ]
  },
  {
   "cell_type": "markdown",
   "metadata": {},
   "source": [
    "p value is 0.0024 < 0.05, reject the null hypothesis. "
   ]
  },
  {
   "cell_type": "code",
   "execution_count": null,
   "metadata": {},
   "outputs": [],
   "source": []
  },
  {
   "cell_type": "code",
   "execution_count": null,
   "metadata": {},
   "outputs": [],
   "source": []
  }
 ],
 "metadata": {
  "kernelspec": {
   "display_name": "Python 3",
   "language": "python",
   "name": "python3"
  },
  "language_info": {
   "codemirror_mode": {
    "name": "ipython",
    "version": 3
   },
   "file_extension": ".py",
   "mimetype": "text/x-python",
   "name": "python",
   "nbconvert_exporter": "python",
   "pygments_lexer": "ipython3",
   "version": "3.6.5"
  }
 },
 "nbformat": 4,
 "nbformat_minor": 1
}
