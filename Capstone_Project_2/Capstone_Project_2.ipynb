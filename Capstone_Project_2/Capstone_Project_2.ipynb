{
  "nbformat": 4,
  "nbformat_minor": 0,
  "metadata": {
    "kernelspec": {
      "name": "python3",
      "display_name": "Python 3"
    },
    "language_info": {
      "codemirror_mode": {
        "name": "ipython",
        "version": 3
      },
      "file_extension": ".py",
      "mimetype": "text/x-python",
      "name": "python",
      "nbconvert_exporter": "python",
      "pygments_lexer": "ipython3",
      "version": "3.6.5"
    },
    "colab": {
      "name": "Capstone_Project_2.ipynb",
      "provenance": []
    },
    "accelerator": "GPU"
  },
  "cells": [
    {
      "cell_type": "code",
      "metadata": {
        "id": "qJf9Cx5R1CFN",
        "colab_type": "code",
        "colab": {}
      },
      "source": [
        "# Import libraries\n",
        "import tensorflow as tf\n",
        "import numpy as np\n",
        "import matplotlib.pyplot as plt \n",
        "import collections\n",
        "import pandas as pd"
      ],
      "execution_count": 0,
      "outputs": []
    },
    {
      "cell_type": "code",
      "metadata": {
        "id": "i4MnKXn81CFR",
        "colab_type": "code",
        "colab": {
          "base_uri": "https://localhost:8080/",
          "height": 191
        },
        "outputId": "ba65fff9-16a7-4379-e7be-0d8a7f885109"
      },
      "source": [
        "# Load Fashion MNIST dataset from Keras\n",
        "(x_train, y_train), (x_test, y_test) = tf.keras.datasets.fashion_mnist.load_data()\n",
        "print(\"x_train shape:\", x_train.shape, \"y_train shape:\", y_train.shape)\n",
        "print(\"x_test shape:\", x_test.shape, \"y_test shape:\", y_test.shape)"
      ],
      "execution_count": 2,
      "outputs": [
        {
          "output_type": "stream",
          "text": [
            "Downloading data from https://storage.googleapis.com/tensorflow/tf-keras-datasets/train-labels-idx1-ubyte.gz\n",
            "32768/29515 [=================================] - 0s 0us/step\n",
            "Downloading data from https://storage.googleapis.com/tensorflow/tf-keras-datasets/train-images-idx3-ubyte.gz\n",
            "26427392/26421880 [==============================] - 0s 0us/step\n",
            "Downloading data from https://storage.googleapis.com/tensorflow/tf-keras-datasets/t10k-labels-idx1-ubyte.gz\n",
            "8192/5148 [===============================================] - 0s 0us/step\n",
            "Downloading data from https://storage.googleapis.com/tensorflow/tf-keras-datasets/t10k-images-idx3-ubyte.gz\n",
            "4423680/4422102 [==============================] - 0s 0us/step\n",
            "x_train shape: (60000, 28, 28) y_train shape: (60000,)\n",
            "x_test shape: (10000, 28, 28) y_test shape: (10000,)\n"
          ],
          "name": "stdout"
        }
      ]
    },
    {
      "cell_type": "markdown",
      "metadata": {
        "id": "WYdt9Z5r1CFV",
        "colab_type": "text"
      },
      "source": [
        "The training dataset has 60000 images of size (28,28) with each pixel as a value from 0 to 255 (0 for white and 255 for black).\n",
        "\n",
        "The testing dataset has 10000 images with labels for test."
      ]
    },
    {
      "cell_type": "code",
      "metadata": {
        "id": "N9E9fgwJ1CFW",
        "colab_type": "code",
        "colab": {
          "base_uri": "https://localhost:8080/",
          "height": 269
        },
        "outputId": "ecf49910-22df-4caa-c011-9f69779eb119"
      },
      "source": [
        "# Show the first image\n",
        "plt.imshow(x_train[0], cmap=plt.cm.binary)\n",
        "plt.colorbar()\n",
        "plt.show()"
      ],
      "execution_count": 3,
      "outputs": [
        {
          "output_type": "display_data",
          "data": {
            "image/png": "[encoded data removed]",
            "text/plain": [
              "<Figure size 432x288 with 2 Axes>"
            ]
          },
          "metadata": {
            "tags": []
          }
        }
      ]
    },
    {
      "cell_type": "markdown",
      "metadata": {
        "id": "5z1g18971CFY",
        "colab_type": "text"
      },
      "source": [
        "Each label in dataset represents a class of fashion item:<br>\n",
        "\n",
        "| Label |    Class    |\n",
        "|:-----:|:-----------:|\n",
        "|   0   | T-shirt/top |\n",
        "|   1   |   Trouser   |\n",
        "|   2   |   Pullover  |\n",
        "|   3   |    Dress    |\n",
        "|   4   |     Coat    |\n",
        "|   5   |    Sandal   |\n",
        "|   6   |    Shirt    |\n",
        "|   7   |   Sneaker   |\n",
        "|   8   |     Bag     |\n",
        "|   9   |  Ankle boot |"
      ]
    },
    {
      "cell_type": "code",
      "metadata": {
        "id": "W61wFOhj1CFZ",
        "colab_type": "code",
        "colab": {}
      },
      "source": [
        "# Add label names\n",
        "label_names = ['T-shirt/top', 'Trouser', 'Pullover', 'Dress', 'Coat',\n",
        "               'Sandal', 'Shirt', 'Sneaker', 'Bag', 'Ankle boot']"
      ],
      "execution_count": 0,
      "outputs": []
    },
    {
      "cell_type": "code",
      "metadata": {
        "id": "WcV3x14Y1CFc",
        "colab_type": "code",
        "colab": {
          "base_uri": "https://localhost:8080/",
          "height": 375
        },
        "outputId": "efad508c-2b12-45af-94b8-4748096a521e"
      },
      "source": [
        "# Display first 9 images with labels\n",
        "plt.figure(figsize=(6,6))\n",
        "for i in range(9):\n",
        "    plt.subplot(3,3,i+1)\n",
        "    plt.xticks([])\n",
        "    plt.yticks([])\n",
        "    plt.grid(False)\n",
        "    plt.imshow(x_train[i], cmap=plt.cm.binary)\n",
        "    plt.xlabel(label_names[y_train[i]])\n",
        "plt.show()"
      ],
      "execution_count": 5,
      "outputs": [
        {
          "output_type": "display_data",
          "data": {
            "image/png": "[encoded data removed]",
            "text/plain": [
              "<Figure size 432x432 with 9 Axes>"
            ]
          },
          "metadata": {
            "tags": []
          }
        }
      ]
    },
    {
      "cell_type": "code",
      "metadata": {
        "id": "EJ9UGyof1CFe",
        "colab_type": "code",
        "colab": {
          "base_uri": "https://localhost:8080/",
          "height": 191
        },
        "outputId": "54ad4174-528c-4245-8086-afed1d5f335c"
      },
      "source": [
        "# Count occurrence of each class in training set\n",
        "train_counter = collections.Counter(y_train)\n",
        "for key in train_counter.keys():\n",
        "    print(label_names[key] + ': ' + str(train_counter[key]))"
      ],
      "execution_count": 6,
      "outputs": [
        {
          "output_type": "stream",
          "text": [
            "Ankle boot: 6000\n",
            "T-shirt/top: 6000\n",
            "Dress: 6000\n",
            "Pullover: 6000\n",
            "Sneaker: 6000\n",
            "Sandal: 6000\n",
            "Trouser: 6000\n",
            "Shirt: 6000\n",
            "Coat: 6000\n",
            "Bag: 6000\n"
          ],
          "name": "stdout"
        }
      ]
    },
    {
      "cell_type": "markdown",
      "metadata": {
        "id": "NU4XFV1q1CFg",
        "colab_type": "text"
      },
      "source": [
        "Each feature has a value in the range of 0 to 255, which is too wide. Therefore, normalization is necessary to scale the data dimensions to make them approximately the same scale.<br>\n",
        "<br>\n",
        "In this case, I scaled these values to a range of 0 to 1 by dividing them by 255.<br>\n",
        "<br>\n",
        "In addition, since I will start with classification with Machine Learning methods, images need to be flattened to meet the requirement of input into machine learning models."
      ]
    },
    {
      "cell_type": "code",
      "metadata": {
        "id": "7EEyG7qO1CFh",
        "colab_type": "code",
        "colab": {
          "base_uri": "https://localhost:8080/",
          "height": 87
        },
        "outputId": "6ed6c60d-a626-43e3-bafc-a6a697bf9c6d"
      },
      "source": [
        "# Feature scaling: divide features by 255 to get a range of 0 to 1\n",
        "x_train_scaled = x_train / 255.0\n",
        "x_test_scaled = x_test / 255.0\n",
        "\n",
        "# Flatten training and test data\n",
        "x_train_scaled_reshaped = np.reshape(x_train_scaled, \n",
        "                                     (x_train.shape[0], x_train.shape[1]*x_train.shape[2]))\n",
        "x_test_scaled_reshaped = np.reshape(x_test_scaled, \n",
        "                                     (x_test.shape[0], x_test.shape[1]*x_test.shape[2]))\n",
        "\n",
        "print(x_train_scaled.shape)\n",
        "print(x_test_scaled.shape)\n",
        "print(x_train_scaled_reshaped.shape)\n",
        "print(x_test_scaled_reshaped.shape)"
      ],
      "execution_count": 7,
      "outputs": [
        {
          "output_type": "stream",
          "text": [
            "(60000, 28, 28)\n",
            "(10000, 28, 28)\n",
            "(60000, 784)\n",
            "(10000, 784)\n"
          ],
          "name": "stdout"
        }
      ]
    },
    {
      "cell_type": "markdown",
      "metadata": {
        "id": "9puAaniW1CFk",
        "colab_type": "text"
      },
      "source": [
        "### Classification with Machine Learning\n",
        "<br>\n",
        "I will start from supervised machine learning methods as this is a classification problem. <br>\n",
        "<br>\n",
        "Below are 3 classifiers that I will try:<br>\n",
        "1. SGD Classifier <br>  2. Decision Tree Classifier <br>  3. Random Forest Classifier"
      ]
    },
    {
      "cell_type": "code",
      "metadata": {
        "id": "Ae-TpIKk1CFk",
        "colab_type": "code",
        "colab": {}
      },
      "source": [
        "# Import metrics\n",
        "from sklearn.metrics import accuracy_score, precision_score, recall_score, f1_score\n",
        "from sklearn.metrics import roc_auc_score\n",
        "from sklearn.metrics import confusion_matrix"
      ],
      "execution_count": 0,
      "outputs": []
    },
    {
      "cell_type": "code",
      "metadata": {
        "id": "yptGq2s81CFn",
        "colab_type": "code",
        "colab": {
          "base_uri": "https://localhost:8080/",
          "height": 121
        },
        "outputId": "2d53ac60-9c6a-4517-bbd3-037607098c1a"
      },
      "source": [
        "# SGD classifier\n",
        "from sklearn.linear_model import SGDClassifier\n",
        "\n",
        "sgd = SGDClassifier(random_state=217)\n",
        "sgd.fit(x_train_scaled_reshaped, y_train)"
      ],
      "execution_count": 9,
      "outputs": [
        {
          "output_type": "execute_result",
          "data": {
            "text/plain": [
              "SGDClassifier(alpha=0.0001, average=False, class_weight=None,\n",
              "              early_stopping=False, epsilon=0.1, eta0=0.0, fit_intercept=True,\n",
              "              l1_ratio=0.15, learning_rate='optimal', loss='hinge',\n",
              "              max_iter=1000, n_iter_no_change=5, n_jobs=None, penalty='l2',\n",
              "              power_t=0.5, random_state=217, shuffle=True, tol=0.001,\n",
              "              validation_fraction=0.1, verbose=0, warm_start=False)"
            ]
          },
          "metadata": {
            "tags": []
          },
          "execution_count": 9
        }
      ]
    },
    {
      "cell_type": "code",
      "metadata": {
        "id": "yx0Kq23Y1CFq",
        "colab_type": "code",
        "colab": {
          "base_uri": "https://localhost:8080/",
          "height": 87
        },
        "outputId": "ae3e489e-60cb-4fb6-99d4-407187726b4f"
      },
      "source": [
        "# Prediction on training set\n",
        "y_train_predict = sgd.predict(x_train_scaled_reshaped)\n",
        "\n",
        "# Calculate the accuracy score\n",
        "sgd_acc = accuracy_score(y_train, y_train_predict)\n",
        "sgd_precision = precision_score(y_train, y_train_predict, average='weighted')\n",
        "sgd_recall = recall_score(y_train, y_train_predict, average='weighted')\n",
        "sgd_f1 = f1_score(y_train, y_train_predict, average='weighted')\n",
        "\n",
        "print('SGD accuracy: ', sgd_acc)\n",
        "print('SGD precision: ', sgd_precision)\n",
        "print('SGD recall: ', sgd_recall)\n",
        "print('SGD f1: ', sgd_f1)"
      ],
      "execution_count": 10,
      "outputs": [
        {
          "output_type": "stream",
          "text": [
            "SGD accuracy:  0.8643833333333333\n",
            "SGD precision:  0.8654810285464405\n",
            "SGD recall:  0.8643833333333333\n",
            "SGD f1:  0.8646701656929745\n"
          ],
          "name": "stdout"
        }
      ]
    },
    {
      "cell_type": "code",
      "metadata": {
        "id": "oG_MjL_51CFs",
        "colab_type": "code",
        "colab": {
          "base_uri": "https://localhost:8080/",
          "height": 87
        },
        "outputId": "4e17379b-8a7e-4c64-990d-2209eb4f8f8a"
      },
      "source": [
        "# Cross validation\n",
        "from sklearn.model_selection import cross_val_score\n",
        "from sklearn.model_selection import cross_val_predict\n",
        "\n",
        "sgd_cv_acc = cross_val_score(sgd, x_train_scaled_reshaped, y_train, cv=5, scoring=\"accuracy\").mean() \n",
        "y_train_cv_pred = cross_val_predict(sgd, x_train_scaled_reshaped, y_train, cv=5)\n",
        "\n",
        "sgd_cv_precision = precision_score(y_train, y_train_cv_pred, average='weighted')\n",
        "sgd_cv_recall = recall_score(y_train, y_train_cv_pred, average='weighted')\n",
        "sgd_cv_f1 = f1_score(y_train, y_train_cv_pred, average='weighted')\n",
        "\n",
        "print(\"SGD CV accuracy: \", sgd_cv_acc)\n",
        "print(\"SGD CV precision: \", sgd_cv_precision)\n",
        "print(\"SGD CV recall: \", sgd_cv_recall)\n",
        "print(\"SGD CV f1: \", sgd_cv_f1)"
      ],
      "execution_count": 11,
      "outputs": [
        {
          "output_type": "stream",
          "text": [
            "SGD CV accuracy:  0.8385999999999999\n",
            "SGD CV precision:  0.8381626837570993\n",
            "SGD CV recall:  0.8386\n",
            "SGD CV f1:  0.8368564757144427\n"
          ],
          "name": "stdout"
        }
      ]
    },
    {
      "cell_type": "code",
      "metadata": {
        "id": "_Ur7WCgm1CFu",
        "colab_type": "code",
        "colab": {}
      },
      "source": [
        "# Save scores\n",
        "model_scores = {'sgd': {'accuracy': sgd_acc, 'precision': sgd_precision, \n",
        "                        'recall': sgd_recall, 'f1': sgd_f1,\n",
        "                       'cv accuracy': sgd_cv_acc, 'cv precision': sgd_cv_precision, \n",
        "                        'cv recall': sgd_cv_recall, 'cv f1': sgd_cv_f1}}\n"
      ],
      "execution_count": 0,
      "outputs": []
    },
    {
      "cell_type": "code",
      "metadata": {
        "id": "cPBy4Yll1CFw",
        "colab_type": "code",
        "colab": {
          "base_uri": "https://localhost:8080/",
          "height": 121
        },
        "outputId": "b6846030-e817-4b4e-b6d7-25b8c19e4f7f"
      },
      "source": [
        "# Decision Tree Classifier\n",
        "from sklearn.tree import DecisionTreeClassifier\n",
        "\n",
        "dt = DecisionTreeClassifier(random_state=217)\n",
        "dt.fit(x_train_scaled_reshaped, y_train)"
      ],
      "execution_count": 13,
      "outputs": [
        {
          "output_type": "execute_result",
          "data": {
            "text/plain": [
              "DecisionTreeClassifier(class_weight=None, criterion='gini', max_depth=None,\n",
              "                       max_features=None, max_leaf_nodes=None,\n",
              "                       min_impurity_decrease=0.0, min_impurity_split=None,\n",
              "                       min_samples_leaf=1, min_samples_split=2,\n",
              "                       min_weight_fraction_leaf=0.0, presort=False,\n",
              "                       random_state=217, splitter='best')"
            ]
          },
          "metadata": {
            "tags": []
          },
          "execution_count": 13
        }
      ]
    },
    {
      "cell_type": "code",
      "metadata": {
        "id": "FkcgllHM1CF0",
        "colab_type": "code",
        "colab": {
          "base_uri": "https://localhost:8080/",
          "height": 87
        },
        "outputId": "5f3836e3-ad7d-478b-b74b-0c8f9d51a383"
      },
      "source": [
        "# Prediction on training set\n",
        "y_train_predict = dt.predict(x_train_scaled_reshaped)\n",
        "\n",
        "# Calculate the accuracy score\n",
        "dt_acc = accuracy_score(y_train, y_train_predict)\n",
        "dt_precision = precision_score(y_train, y_train_predict, average='weighted')\n",
        "dt_recall = recall_score(y_train, y_train_predict, average='weighted')\n",
        "dt_f1 = f1_score(y_train, y_train_predict, average='weighted')\n",
        "\n",
        "print('dt accuracy: ', dt_acc)\n",
        "print('dt precision: ', dt_precision)\n",
        "print('dt recall: ', dt_recall)\n",
        "print('dt f1: ', dt_f1)"
      ],
      "execution_count": 14,
      "outputs": [
        {
          "output_type": "stream",
          "text": [
            "dt accuracy:  1.0\n",
            "dt precision:  1.0\n",
            "dt recall:  1.0\n",
            "dt f1:  1.0\n"
          ],
          "name": "stdout"
        }
      ]
    },
    {
      "cell_type": "code",
      "metadata": {
        "id": "THFEBXBe1CF4",
        "colab_type": "code",
        "colab": {
          "base_uri": "https://localhost:8080/",
          "height": 87
        },
        "outputId": "ede9ee32-e756-44ce-b620-8e4ff876dd3f"
      },
      "source": [
        "# Cross validation\n",
        "dt_cv_acc = cross_val_score(dt, x_train_scaled_reshaped, y_train, cv=5, scoring=\"accuracy\").mean() \n",
        "y_train_cv_pred = cross_val_predict(dt, x_train_scaled_reshaped, y_train, cv=5)\n",
        "\n",
        "dt_cv_precision = precision_score(y_train, y_train_cv_pred, average='weighted')\n",
        "dt_cv_recall = recall_score(y_train, y_train_cv_pred, average='weighted')\n",
        "dt_cv_f1 = f1_score(y_train, y_train_cv_pred, average='weighted')\n",
        "\n",
        "print(\"dt CV accuracy: \", dt_cv_acc)\n",
        "print(\"dt CV precision: \", dt_cv_precision)\n",
        "print(\"dt CV recall: \", dt_cv_recall)\n",
        "print(\"dt CV f1: \", dt_cv_f1)"
      ],
      "execution_count": 15,
      "outputs": [
        {
          "output_type": "stream",
          "text": [
            "dt CV accuracy:  0.79605\n",
            "dt CV precision:  0.796513401611978\n",
            "dt CV recall:  0.79605\n",
            "dt CV f1:  0.7962626718908491\n"
          ],
          "name": "stdout"
        }
      ]
    },
    {
      "cell_type": "code",
      "metadata": {
        "id": "zTaTbwcE1CF6",
        "colab_type": "code",
        "colab": {}
      },
      "source": [
        "# Save scores\n",
        "model_scores['dt'] = {'accuracy': dt_acc, 'precision': dt_precision, \n",
        "                        'recall': dt_recall, 'f1': dt_f1,\n",
        "                       'cv accuracy': dt_cv_acc, 'cv precision': dt_cv_precision, \n",
        "                        'cv recall': dt_cv_recall, 'cv f1': dt_cv_f1}"
      ],
      "execution_count": 0,
      "outputs": []
    },
    {
      "cell_type": "code",
      "metadata": {
        "id": "JsNirxva1CF8",
        "colab_type": "code",
        "colab": {
          "base_uri": "https://localhost:8080/",
          "height": 193
        },
        "outputId": "20273c11-c5dd-42d5-dd7a-0126decd83d3"
      },
      "source": [
        "# Random Forest Classifier \n",
        "from sklearn.ensemble import RandomForestClassifier\n",
        "\n",
        "rf = RandomForestClassifier(random_state=217)\n",
        "rf.fit(x_train_scaled_reshaped, y_train)"
      ],
      "execution_count": 17,
      "outputs": [
        {
          "output_type": "stream",
          "text": [
            "/usr/local/lib/python3.6/dist-packages/sklearn/ensemble/forest.py:245: FutureWarning: The default value of n_estimators will change from 10 in version 0.20 to 100 in 0.22.\n",
            "  \"10 in version 0.20 to 100 in 0.22.\", FutureWarning)\n"
          ],
          "name": "stderr"
        },
        {
          "output_type": "execute_result",
          "data": {
            "text/plain": [
              "RandomForestClassifier(bootstrap=True, class_weight=None, criterion='gini',\n",
              "                       max_depth=None, max_features='auto', max_leaf_nodes=None,\n",
              "                       min_impurity_decrease=0.0, min_impurity_split=None,\n",
              "                       min_samples_leaf=1, min_samples_split=2,\n",
              "                       min_weight_fraction_leaf=0.0, n_estimators=10,\n",
              "                       n_jobs=None, oob_score=False, random_state=217,\n",
              "                       verbose=0, warm_start=False)"
            ]
          },
          "metadata": {
            "tags": []
          },
          "execution_count": 17
        }
      ]
    },
    {
      "cell_type": "code",
      "metadata": {
        "id": "BZRC8DWK1CF_",
        "colab_type": "code",
        "colab": {
          "base_uri": "https://localhost:8080/",
          "height": 87
        },
        "outputId": "424b8347-57bd-4a72-a193-31c8ce6d2a1a"
      },
      "source": [
        "# Prediction on training set\n",
        "y_train_predict = rf.predict(x_train_scaled_reshaped)\n",
        "\n",
        "# Calculate the accuracy score\n",
        "rf_acc = accuracy_score(y_train, y_train_predict)\n",
        "rf_precision = precision_score(y_train, y_train_predict, average='weighted')\n",
        "rf_recall = recall_score(y_train, y_train_predict, average='weighted')\n",
        "rf_f1 = f1_score(y_train, y_train_predict, average='weighted')\n",
        "\n",
        "print('RF accuracy: ', rf_acc)\n",
        "print('RF precision: ', rf_precision)\n",
        "print('RF recall: ', rf_recall)\n",
        "print('RF f1: ', rf_f1)"
      ],
      "execution_count": 18,
      "outputs": [
        {
          "output_type": "stream",
          "text": [
            "RF accuracy:  0.9952666666666666\n",
            "RF precision:  0.9952857992970969\n",
            "RF recall:  0.9952666666666666\n",
            "RF f1:  0.9952589930310555\n"
          ],
          "name": "stdout"
        }
      ]
    },
    {
      "cell_type": "code",
      "metadata": {
        "id": "jXpBZkXu1CGB",
        "colab_type": "code",
        "colab": {
          "base_uri": "https://localhost:8080/",
          "height": 87
        },
        "outputId": "0335f2fb-9a2c-4626-8ae9-f86c0eca4476"
      },
      "source": [
        "# Cross validation\n",
        "rf_cv_acc = cross_val_score(rf, x_train_scaled_reshaped, y_train, cv=5, scoring=\"accuracy\").mean() \n",
        "y_train_cv_pred = cross_val_predict(rf, x_train_scaled_reshaped, y_train, cv=5)\n",
        "\n",
        "rf_cv_precision = precision_score(y_train, y_train_cv_pred, average='weighted')\n",
        "rf_cv_recall = recall_score(y_train, y_train_cv_pred, average='weighted')\n",
        "rf_cv_f1 = f1_score(y_train, y_train_cv_pred, average='weighted')\n",
        "\n",
        "print(\"rf CV accuracy: \", rf_cv_acc)\n",
        "print(\"rf CV precision: \", rf_cv_precision)\n",
        "print(\"rf CV recall: \", rf_cv_recall)\n",
        "print(\"rf CV f1: \", rf_cv_f1)"
      ],
      "execution_count": 19,
      "outputs": [
        {
          "output_type": "stream",
          "text": [
            "rf CV accuracy:  0.8593333333333334\n",
            "rf CV precision:  0.8584367315955799\n",
            "rf CV recall:  0.8593333333333333\n",
            "rf CV f1:  0.8573226294071724\n"
          ],
          "name": "stdout"
        }
      ]
    },
    {
      "cell_type": "code",
      "metadata": {
        "id": "m-I2ROfp1CGE",
        "colab_type": "code",
        "colab": {}
      },
      "source": [
        "# Save scores\n",
        "model_scores['rf'] ={'accuracy': rf_acc, 'precision': rf_precision, \n",
        "                        'recall': rf_recall, 'f1': rf_f1,\n",
        "                       'cv accuracy': rf_cv_acc, 'cv precision': rf_cv_precision, \n",
        "                        'cv recall': rf_cv_recall, 'cv f1': rf_cv_f1}"
      ],
      "execution_count": 0,
      "outputs": []
    },
    {
      "cell_type": "markdown",
      "metadata": {
        "id": "R9478hdh1CGI",
        "colab_type": "text"
      },
      "source": [
        "##### Evaluate:\n",
        "\n",
        "According to the model scores displayed below, we can see that Decision Trees Classifier and Random Forest Classifier both have a high accuracy on training data, Random Forest Classifier does a better work on cross-validation score.<br>\n",
        "<br>\n",
        "Therefore, I will continue to fine tuning the Random Forest Model."
      ]
    },
    {
      "cell_type": "code",
      "metadata": {
        "scrolled": true,
        "id": "_EP-_9hs1CGJ",
        "colab_type": "code",
        "colab": {
          "base_uri": "https://localhost:8080/",
          "height": 141
        },
        "outputId": "afb35c89-10a4-4110-f6c4-e1df42e103c2"
      },
      "source": [
        "score_order = ['accuracy', 'precision', 'recall', 'f1', \n",
        "               'cv accuracy', 'cv precision', 'cv recall', 'cv f1']\n",
        "pd.DataFrame(model_scores).transpose()[score_order]"
      ],
      "execution_count": 21,
      "outputs": [
        {
          "output_type": "execute_result",
          "data": {
            "text/html": [
              "<div>\n",
              "<style scoped>\n",
              "    .dataframe tbody tr th:only-of-type {\n",
              "        vertical-align: middle;\n",
              "    }\n",
              "\n",
              "    .dataframe tbody tr th {\n",
              "        vertical-align: top;\n",
              "    }\n",
              "\n",
              "    .dataframe thead th {\n",
              "        text-align: right;\n",
              "    }\n",
              "</style>\n",
              "<table border=\"1\" class=\"dataframe\">\n",
              "  <thead>\n",
              "    <tr style=\"text-align: right;\">\n",
              "      <th></th>\n",
              "      <th>accuracy</th>\n",
              "      <th>precision</th>\n",
              "      <th>recall</th>\n",
              "      <th>f1</th>\n",
              "      <th>cv accuracy</th>\n",
              "      <th>cv precision</th>\n",
              "      <th>cv recall</th>\n",
              "      <th>cv f1</th>\n",
              "    </tr>\n",
              "  </thead>\n",
              "  <tbody>\n",
              "    <tr>\n",
              "      <th>sgd</th>\n",
              "      <td>0.864383</td>\n",
              "      <td>0.865481</td>\n",
              "      <td>0.864383</td>\n",
              "      <td>0.864670</td>\n",
              "      <td>0.838600</td>\n",
              "      <td>0.838163</td>\n",
              "      <td>0.838600</td>\n",
              "      <td>0.836856</td>\n",
              "    </tr>\n",
              "    <tr>\n",
              "      <th>dt</th>\n",
              "      <td>1.000000</td>\n",
              "      <td>1.000000</td>\n",
              "      <td>1.000000</td>\n",
              "      <td>1.000000</td>\n",
              "      <td>0.796050</td>\n",
              "      <td>0.796513</td>\n",
              "      <td>0.796050</td>\n",
              "      <td>0.796263</td>\n",
              "    </tr>\n",
              "    <tr>\n",
              "      <th>rf</th>\n",
              "      <td>0.995267</td>\n",
              "      <td>0.995286</td>\n",
              "      <td>0.995267</td>\n",
              "      <td>0.995259</td>\n",
              "      <td>0.859333</td>\n",
              "      <td>0.858437</td>\n",
              "      <td>0.859333</td>\n",
              "      <td>0.857323</td>\n",
              "    </tr>\n",
              "  </tbody>\n",
              "</table>\n",
              "</div>"
            ],
            "text/plain": [
              "     accuracy  precision    recall  ...  cv precision  cv recall     cv f1\n",
              "sgd  0.864383   0.865481  0.864383  ...      0.838163   0.838600  0.836856\n",
              "dt   1.000000   1.000000  1.000000  ...      0.796513   0.796050  0.796263\n",
              "rf   0.995267   0.995286  0.995267  ...      0.858437   0.859333  0.857323\n",
              "\n",
              "[3 rows x 8 columns]"
            ]
          },
          "metadata": {
            "tags": []
          },
          "execution_count": 21
        }
      ]
    },
    {
      "cell_type": "markdown",
      "metadata": {
        "id": "ox0xms4z1CGM",
        "colab_type": "text"
      },
      "source": [
        "Runing model on a dataset that has 784 features can be very time consuming, in order to speed up the model fitting, I will try to reduce dimension by Principal Component Analysis(PCA).<br>\n",
        "<br>\n",
        "Below is the code to compare number of features left and quality of image after PCA by setting different minimum amount of variance that needs to be explained(90%, 95%, 99%)."
      ]
    },
    {
      "cell_type": "code",
      "metadata": {
        "id": "H-OuRNLE1CGN",
        "colab_type": "code",
        "colab": {
          "base_uri": "https://localhost:8080/",
          "height": 825
        },
        "outputId": "cefe1ed5-0a2c-49ff-d0db-550ca9cdcd38"
      },
      "source": [
        "# Tuning Random Forest Model\n",
        "# Dimension Reduction using PCA\n",
        "from sklearn.decomposition import PCA\n",
        "\n",
        "n_components_grid = [0.9, 0.95, 0.99]\n",
        "for n_components in n_components_grid:\n",
        "    pca = PCA(n_components=n_components)\n",
        "    X_train_reduced = pca.fit_transform(x_train_scaled_reshaped)\n",
        "    print(\"n_components = {}, {} ({}%)features left.\"\n",
        "          .format(n_components, pca.n_components_, round(100*pca.n_components_/784)))\n",
        "    \n",
        "    # plot a sample image\n",
        "    sample = pca.inverse_transform(X_train_reduced[0])\n",
        "    sample = sample.reshape(28,28)\n",
        "    plt.imshow(sample, cmap=plt.cm.binary)\n",
        "    plt.show()"
      ],
      "execution_count": 22,
      "outputs": [
        {
          "output_type": "stream",
          "text": [
            "n_components = 0.9, 84 (11.0%)features left.\n"
          ],
          "name": "stdout"
        },
        {
          "output_type": "display_data",
          "data": {
            "image/png": "[encoded data removed]",
            "text/plain": [
              "<Figure size 432x288 with 1 Axes>"
            ]
          },
          "metadata": {
            "tags": []
          }
        },
        {
          "output_type": "stream",
          "text": [
            "n_components = 0.95, 187 (24.0%)features left.\n"
          ],
          "name": "stdout"
        },
        {
          "output_type": "display_data",
          "data": {
            "image/png": "[encoded data removed]",
            "text/plain": [
              "<Figure size 432x288 with 1 Axes>"
            ]
          },
          "metadata": {
            "tags": []
          }
        },
        {
          "output_type": "stream",
          "text": [
            "n_components = 0.99, 459 (59.0%)features left.\n"
          ],
          "name": "stdout"
        },
        {
          "output_type": "display_data",
          "data": {
            "image/png": "[encoded data removed]",
            "text/plain": [
              "<Figure size 432x288 with 1 Axes>"
            ]
          },
          "metadata": {
            "tags": []
          }
        }
      ]
    },
    {
      "cell_type": "markdown",
      "metadata": {
        "id": "1gAxV5bH1CGP",
        "colab_type": "text"
      },
      "source": [
        "We can see that under n_components=0.9 and 0.95 we lose ~90% and ~75% features, the quality of image is poor, so I will go with n_components=0.99."
      ]
    },
    {
      "cell_type": "code",
      "metadata": {
        "id": "TcUjICL01CGP",
        "colab_type": "code",
        "colab": {}
      },
      "source": [
        "# Select n_components = 0.99\n",
        "pca = PCA(n_components=0.99)\n",
        "X_train_reduced = pca.fit_transform(x_train_scaled_reshaped)"
      ],
      "execution_count": 0,
      "outputs": []
    },
    {
      "cell_type": "code",
      "metadata": {
        "id": "3HYTFSJz1CGS",
        "colab_type": "code",
        "colab": {
          "base_uri": "https://localhost:8080/",
          "height": 329
        },
        "outputId": "d2adbf70-24fa-4054-fbb6-19620d06e492"
      },
      "source": [
        "# perform GridSearchCV to tune the RF model\n",
        "from sklearn.model_selection import GridSearchCV\n",
        "\n",
        "param_grid = [\n",
        "    {'n_estimators': [50,100], 'max_depth': [10, 20, 50]},    \n",
        "]\n",
        "\n",
        "rf_grid_search = RandomForestClassifier(random_state=217)\n",
        "grid_search = GridSearchCV(rf_grid_search, param_grid, cv=3,\n",
        "                           scoring='accuracy')\n",
        "grid_search.fit(X_train_reduced, y_train)"
      ],
      "execution_count": 24,
      "outputs": [
        {
          "output_type": "execute_result",
          "data": {
            "text/plain": [
              "GridSearchCV(cv=3, error_score='raise-deprecating',\n",
              "             estimator=RandomForestClassifier(bootstrap=True, class_weight=None,\n",
              "                                              criterion='gini', max_depth=None,\n",
              "                                              max_features='auto',\n",
              "                                              max_leaf_nodes=None,\n",
              "                                              min_impurity_decrease=0.0,\n",
              "                                              min_impurity_split=None,\n",
              "                                              min_samples_leaf=1,\n",
              "                                              min_samples_split=2,\n",
              "                                              min_weight_fraction_leaf=0.0,\n",
              "                                              n_estimators='warn', n_jobs=None,\n",
              "                                              oob_score=False, random_state=217,\n",
              "                                              verbose=0, warm_start=False),\n",
              "             iid='warn', n_jobs=None,\n",
              "             param_grid=[{'max_depth': [10, 20, 50],\n",
              "                          'n_estimators': [50, 100]}],\n",
              "             pre_dispatch='2*n_jobs', refit=True, return_train_score=False,\n",
              "             scoring='accuracy', verbose=0)"
            ]
          },
          "metadata": {
            "tags": []
          },
          "execution_count": 24
        }
      ]
    },
    {
      "cell_type": "code",
      "metadata": {
        "id": "xm-1fiin1CGU",
        "colab_type": "code",
        "colab": {
          "base_uri": "https://localhost:8080/",
          "height": 35
        },
        "outputId": "27922f14-e29d-4726-8d45-760b509a6ef1"
      },
      "source": [
        "grid_search.best_params_"
      ],
      "execution_count": 25,
      "outputs": [
        {
          "output_type": "execute_result",
          "data": {
            "text/plain": [
              "{'max_depth': 50, 'n_estimators': 100}"
            ]
          },
          "metadata": {
            "tags": []
          },
          "execution_count": 25
        }
      ]
    },
    {
      "cell_type": "code",
      "metadata": {
        "id": "y0rKNjUh1CGW",
        "colab_type": "code",
        "colab": {
          "base_uri": "https://localhost:8080/",
          "height": 121
        },
        "outputId": "1ad91505-3dfe-44ea-cd8e-3fb3f23d3e23"
      },
      "source": [
        "cv_result = grid_search.cv_results_\n",
        "for acc, params in zip(cv_result[\"mean_test_score\"], cv_result[\"params\"]):\n",
        "    print(acc, params)"
      ],
      "execution_count": 27,
      "outputs": [
        {
          "output_type": "stream",
          "text": [
            "0.8165 {'max_depth': 10, 'n_estimators': 50}\n",
            "0.8220666666666666 {'max_depth': 10, 'n_estimators': 100}\n",
            "0.841 {'max_depth': 20, 'n_estimators': 50}\n",
            "0.8495833333333334 {'max_depth': 20, 'n_estimators': 100}\n",
            "0.8408833333333333 {'max_depth': 50, 'n_estimators': 50}\n",
            "0.8519166666666667 {'max_depth': 50, 'n_estimators': 100}\n"
          ],
          "name": "stdout"
        }
      ]
    },
    {
      "cell_type": "code",
      "metadata": {
        "id": "6Laee1BH1CGY",
        "colab_type": "code",
        "colab": {
          "base_uri": "https://localhost:8080/",
          "height": 87
        },
        "outputId": "7446568d-ce21-4c39-ccc0-38ebf4c7dbdf"
      },
      "source": [
        "# Calculate the accuracy score \n",
        "best_model = grid_search.best_estimator_\n",
        "\n",
        "y_train_predict = best_model.predict(X_train_reduced)\n",
        "\n",
        "# Calculate the accuracy score\n",
        "best_rf_acc = accuracy_score(y_train, y_train_predict)\n",
        "best_rf_precision = precision_score(y_train, y_train_predict, average='weighted')\n",
        "best_rf_recall = recall_score(y_train, y_train_predict, average='weighted')\n",
        "best_rf_f1 = f1_score(y_train, y_train_predict, average='weighted')\n",
        "\n",
        "print('best_rf accuracy: ', best_rf_acc)\n",
        "print('best_rf precision: ', best_rf_precision)\n",
        "print('best_rf recall: ', best_rf_recall)\n",
        "print('best_rf f1: ', best_rf_f1)"
      ],
      "execution_count": 28,
      "outputs": [
        {
          "output_type": "stream",
          "text": [
            "best_rf accuracy:  1.0\n",
            "best_rf precision:  1.0\n",
            "best_rf recall:  1.0\n",
            "best_rf f1:  1.0\n"
          ],
          "name": "stdout"
        }
      ]
    },
    {
      "cell_type": "code",
      "metadata": {
        "id": "BZkIYrwH1CGd",
        "colab_type": "code",
        "colab": {}
      },
      "source": [
        "# Evaluate best model on test set\n",
        "X_test_reduced = pca.transform(x_test_scaled_reshaped)\n",
        "y_test_predict = best_model.predict(X_test_reduced)"
      ],
      "execution_count": 0,
      "outputs": []
    },
    {
      "cell_type": "code",
      "metadata": {
        "id": "vLJbVs9O1CGh",
        "colab_type": "code",
        "colab": {
          "base_uri": "https://localhost:8080/",
          "height": 87
        },
        "outputId": "ba70a2cd-114c-428f-804e-bcd54b28bbf3"
      },
      "source": [
        "# Calculate the accuracy score on test set\n",
        "best_rf_acc = accuracy_score(y_test, y_test_predict)\n",
        "best_rf_precision = precision_score(y_test, y_test_predict, average='weighted')\n",
        "best_rf_recall = recall_score(y_test, y_test_predict, average='weighted')\n",
        "best_rf_f1 = f1_score(y_test, y_test_predict, average='weighted')\n",
        "\n",
        "print('best_rf accuracy: ', best_rf_acc)\n",
        "print('best_rf precision: ', best_rf_precision)\n",
        "print('best_rf recall: ', best_rf_recall)\n",
        "print('best_rf f1: ', best_rf_f1)"
      ],
      "execution_count": 30,
      "outputs": [
        {
          "output_type": "stream",
          "text": [
            "best_rf accuracy:  0.8492\n",
            "best_rf precision:  0.8471963084203504\n",
            "best_rf recall:  0.8492\n",
            "best_rf f1:  0.8463019485665407\n"
          ],
          "name": "stdout"
        }
      ]
    },
    {
      "cell_type": "markdown",
      "metadata": {
        "id": "ZJkHP1RJ1CGk",
        "colab_type": "text"
      },
      "source": [
        "According to the results above, Random Forest performs the better than SGD classifier and Decision Trees on Fashion MNIST classification. <br>\n",
        "<br>\n",
        "In order to get better scores from RF models, we may need to increase number of estimators and max_depth, and there is overfitting problem in the model. <br>\n",
        "<br>\n",
        "Therefore let's try out deep learning method: convolutional neural networks."
      ]
    },
    {
      "cell_type": "markdown",
      "metadata": {
        "id": "fHKY_f5D1CGl",
        "colab_type": "text"
      },
      "source": [
        "### Classification with Deep Learning\n",
        "#### Convolutional Neural Networks"
      ]
    },
    {
      "cell_type": "markdown",
      "metadata": {
        "id": "zsB9lYYI1CGp",
        "colab_type": "text"
      },
      "source": [
        "The first step is to prepare the data.<br>\n",
        "<br>\n",
        "We need a train set to train the model, a validation set to validate, and a test set to test the model performance on unseen data. In this case, we can split the train set into a train set(80%) and a validation set(20%).<br>\n",
        "<br>\n",
        "In addition, the input data should be reshaped to the shape that the network expects, and labels need to be converted to one-hot vector."
      ]
    },
    {
      "cell_type": "code",
      "metadata": {
        "id": "x7ei1hWJ1CGq",
        "colab_type": "code",
        "colab": {
          "base_uri": "https://localhost:8080/",
          "height": 35
        },
        "outputId": "6f76b510-fb22-4835-df30-81870d808576"
      },
      "source": [
        "from keras.utils import to_categorical\n",
        "from sklearn.model_selection import train_test_split\n",
        "\n",
        "# 1. reshape x_train_scaled before spliting\n",
        "x_train_reshaped = x_train_scaled.reshape(x_train.shape[0], 28, 28, 1)\n",
        "\n",
        "# 2. convert y_train to one-hot vector\n",
        "y_train_cat = to_categorical(y_train)\n",
        "\n",
        "# 3. split x_train_scaled into a train set(80%) and a validation set(20%)\n",
        "X_train_sub, X_val, y_train_sub, y_val = train_test_split(x_train_reshaped, y_train_cat, test_size=0.2, random_state=217)\n",
        "\n",
        "# 4. prepare the test data in the same way\n",
        "X_test_reshaped = x_test_scaled.reshape(x_test.shape[0], 28, 28, 1)\n",
        "y_test_cat = to_categorical(y_test)"
      ],
      "execution_count": 31,
      "outputs": [
        {
          "output_type": "stream",
          "text": [
            "Using TensorFlow backend.\n"
          ],
          "name": "stderr"
        }
      ]
    },
    {
      "cell_type": "code",
      "metadata": {
        "id": "0BjUNVZm1CGt",
        "colab_type": "code",
        "colab": {}
      },
      "source": [
        "# Import libraries for CNN\n",
        "from keras.models import Sequential\n",
        "from keras.layers import Dense, Dropout, Flatten\n",
        "from keras.layers import Conv2D, MaxPooling2D"
      ],
      "execution_count": 0,
      "outputs": []
    },
    {
      "cell_type": "markdown",
      "metadata": {
        "id": "F7PxY8k81CGw",
        "colab_type": "text"
      },
      "source": [
        "Let's start with a 1-convolutional-layer CNN.<br>\n",
        "<br>\n",
        "A dropout layer is added for regularization, which is a powerful way to combat overfitting. A dropout rate of 0.5 will randomly disable 50% of the neurons in the learning phase."
      ]
    },
    {
      "cell_type": "code",
      "metadata": {
        "id": "JzgW-Ioz1CGx",
        "colab_type": "code",
        "colab": {}
      },
      "source": [
        "# CNN with 1 Convolutional Layer\n",
        "cnn1 = Sequential()\n",
        "cnn1.add(Conv2D(32, kernel_size=(3, 3), activation='relu', input_shape=(28,28,1)))\n",
        "cnn1.add(MaxPooling2D(pool_size=(2, 2)))\n",
        "cnn1.add(Dropout(0.5))\n",
        "\n",
        "cnn1.add(Flatten())\n",
        "\n",
        "cnn1.add(Dense(128, activation='relu'))\n",
        "cnn1.add(Dense(10, activation='softmax'))\n",
        "\n",
        "cnn1.compile(loss='categorical_crossentropy',\n",
        "              optimizer='adam',\n",
        "              metrics=['accuracy'])"
      ],
      "execution_count": 0,
      "outputs": []
    },
    {
      "cell_type": "code",
      "metadata": {
        "scrolled": false,
        "id": "5gCTnkUJ1CG0",
        "colab_type": "code",
        "colab": {
          "base_uri": "https://localhost:8080/",
          "height": 592
        },
        "outputId": "6248c733-dbbc-43b9-e5cf-783de3eecc34"
      },
      "source": [
        "cnn1.fit(X_train_sub,\n",
        "         y_train_sub,\n",
        "         batch_size=64,\n",
        "         epochs=15,\n",
        "         validation_data=(X_val, y_val))"
      ],
      "execution_count": 59,
      "outputs": [
        {
          "output_type": "stream",
          "text": [
            "Train on 48000 samples, validate on 12000 samples\n",
            "Epoch 1/15\n",
            "48000/48000 [==============================] - 5s 97us/step - loss: 0.4641 - acc: 0.8354 - val_loss: 0.3436 - val_acc: 0.8816\n",
            "Epoch 2/15\n",
            "48000/48000 [==============================] - 4s 78us/step - loss: 0.3322 - acc: 0.8800 - val_loss: 0.2932 - val_acc: 0.8951\n",
            "Epoch 3/15\n",
            "48000/48000 [==============================] - 4s 78us/step - loss: 0.2922 - acc: 0.8928 - val_loss: 0.2737 - val_acc: 0.9009\n",
            "Epoch 4/15\n",
            "48000/48000 [==============================] - 4s 78us/step - loss: 0.2652 - acc: 0.9021 - val_loss: 0.2652 - val_acc: 0.9017\n",
            "Epoch 5/15\n",
            "48000/48000 [==============================] - 4s 77us/step - loss: 0.2445 - acc: 0.9096 - val_loss: 0.2479 - val_acc: 0.9099\n",
            "Epoch 6/15\n",
            "48000/48000 [==============================] - 4s 77us/step - loss: 0.2272 - acc: 0.9146 - val_loss: 0.2544 - val_acc: 0.9060\n",
            "Epoch 7/15\n",
            "48000/48000 [==============================] - 4s 78us/step - loss: 0.2096 - acc: 0.9217 - val_loss: 0.2347 - val_acc: 0.9164\n",
            "Epoch 8/15\n",
            "48000/48000 [==============================] - 4s 78us/step - loss: 0.1968 - acc: 0.9263 - val_loss: 0.2384 - val_acc: 0.9123\n",
            "Epoch 9/15\n",
            "48000/48000 [==============================] - 4s 77us/step - loss: 0.1847 - acc: 0.9308 - val_loss: 0.2264 - val_acc: 0.9207\n",
            "Epoch 10/15\n",
            "48000/48000 [==============================] - 4s 77us/step - loss: 0.1780 - acc: 0.9329 - val_loss: 0.2316 - val_acc: 0.9189\n",
            "Epoch 11/15\n",
            "48000/48000 [==============================] - 4s 77us/step - loss: 0.1654 - acc: 0.9385 - val_loss: 0.2431 - val_acc: 0.9148\n",
            "Epoch 12/15\n",
            "48000/48000 [==============================] - 4s 77us/step - loss: 0.1561 - acc: 0.9402 - val_loss: 0.2319 - val_acc: 0.9203\n",
            "Epoch 13/15\n",
            "48000/48000 [==============================] - 4s 78us/step - loss: 0.1493 - acc: 0.9436 - val_loss: 0.2283 - val_acc: 0.9204\n",
            "Epoch 14/15\n",
            "48000/48000 [==============================] - 4s 76us/step - loss: 0.1413 - acc: 0.9472 - val_loss: 0.2425 - val_acc: 0.9194\n",
            "Epoch 15/15\n",
            "48000/48000 [==============================] - 4s 77us/step - loss: 0.1350 - acc: 0.9480 - val_loss: 0.2352 - val_acc: 0.9219\n"
          ],
          "name": "stdout"
        },
        {
          "output_type": "execute_result",
          "data": {
            "text/plain": [
              "<keras.callbacks.History at 0x7f348f7a72e8>"
            ]
          },
          "metadata": {
            "tags": []
          },
          "execution_count": 59
        }
      ]
    },
    {
      "cell_type": "code",
      "metadata": {
        "id": "oAg9SAyT1CG2",
        "colab_type": "code",
        "colab": {
          "base_uri": "https://localhost:8080/",
          "height": 52
        },
        "outputId": "942d11c6-af3f-42a6-abfd-34aca281243b"
      },
      "source": [
        "# Evaluate the model on test set\n",
        "cnn1_score = cnn1.evaluate(X_test_reshaped, y_test_cat)\n",
        "print(\"1-layer CNN accuracy on test set: \", cnn1_score[1])"
      ],
      "execution_count": 60,
      "outputs": [
        {
          "output_type": "stream",
          "text": [
            "10000/10000 [==============================] - 1s 51us/step\n",
            "1-layer CNN accuracy on test set:  0.9142\n"
          ],
          "name": "stdout"
        }
      ]
    },
    {
      "cell_type": "markdown",
      "metadata": {
        "id": "MofPvLL71CG-",
        "colab_type": "text"
      },
      "source": [
        "The accuracy of prediction on test set is higher than that of Random Forest Classifier, the model is a little bit overfitting, but still in the reasonable range."
      ]
    },
    {
      "cell_type": "code",
      "metadata": {
        "id": "EL4y3ePN1CG-",
        "colab_type": "code",
        "colab": {}
      },
      "source": [
        "# CNN with 2 convolutional layers\n",
        "cnn2 = Sequential()\n",
        "cnn2.add(Conv2D(32, kernel_size=(3, 3), activation='relu', input_shape=(28,28,1)))\n",
        "cnn2.add(MaxPooling2D((2, 2)))\n",
        "cnn2.add(Dropout(0.3))\n",
        "\n",
        "cnn2.add(Conv2D(64, kernel_size=(3, 3), activation='relu'))\n",
        "cnn2.add(MaxPooling2D(pool_size=(2, 2)))\n",
        "cnn2.add(Dropout(0.3))\n",
        "\n",
        "cnn2.add(Flatten())\n",
        "\n",
        "cnn2.add(Dense(128, activation='relu'))\n",
        "cnn2.add(Dropout(0.4))\n",
        "cnn2.add(Dense(10, activation='softmax'))\n",
        "\n",
        "cnn2.compile(loss='categorical_crossentropy',\n",
        "              optimizer='adam',\n",
        "              metrics=['accuracy'])"
      ],
      "execution_count": 0,
      "outputs": []
    },
    {
      "cell_type": "code",
      "metadata": {
        "id": "AWXWF4Dd1CHB",
        "colab_type": "code",
        "colab": {
          "base_uri": "https://localhost:8080/",
          "height": 592
        },
        "outputId": "29a3f303-c4c8-4f4b-bce4-f3dac03c1097"
      },
      "source": [
        "cnn2.fit(X_train_sub,\n",
        "         y_train_sub,\n",
        "         batch_size=64,\n",
        "         epochs=15,\n",
        "         validation_data=(X_val, y_val))"
      ],
      "execution_count": 37,
      "outputs": [
        {
          "output_type": "stream",
          "text": [
            "Train on 48000 samples, validate on 12000 samples\n",
            "Epoch 1/15\n",
            "48000/48000 [==============================] - 5s 94us/step - loss: 0.6844 - acc: 0.7470 - val_loss: 0.4496 - val_acc: 0.8399\n",
            "Epoch 2/15\n",
            "48000/48000 [==============================] - 4s 85us/step - loss: 0.4614 - acc: 0.8317 - val_loss: 0.3573 - val_acc: 0.8698\n",
            "Epoch 3/15\n",
            "48000/48000 [==============================] - 4s 86us/step - loss: 0.4022 - acc: 0.8538 - val_loss: 0.3334 - val_acc: 0.8792\n",
            "Epoch 4/15\n",
            "48000/48000 [==============================] - 4s 83us/step - loss: 0.3700 - acc: 0.8650 - val_loss: 0.2998 - val_acc: 0.8895\n",
            "Epoch 5/15\n",
            "48000/48000 [==============================] - 4s 84us/step - loss: 0.3457 - acc: 0.8749 - val_loss: 0.2938 - val_acc: 0.8892\n",
            "Epoch 6/15\n",
            "48000/48000 [==============================] - 4s 83us/step - loss: 0.3322 - acc: 0.8787 - val_loss: 0.2794 - val_acc: 0.8949\n",
            "Epoch 7/15\n",
            "48000/48000 [==============================] - 4s 83us/step - loss: 0.3146 - acc: 0.8858 - val_loss: 0.2692 - val_acc: 0.9012\n",
            "Epoch 8/15\n",
            "48000/48000 [==============================] - 4s 84us/step - loss: 0.3037 - acc: 0.8879 - val_loss: 0.2599 - val_acc: 0.9008\n",
            "Epoch 9/15\n",
            "48000/48000 [==============================] - 4s 84us/step - loss: 0.2948 - acc: 0.8917 - val_loss: 0.2565 - val_acc: 0.9068\n",
            "Epoch 10/15\n",
            "48000/48000 [==============================] - 4s 89us/step - loss: 0.2840 - acc: 0.8951 - val_loss: 0.2560 - val_acc: 0.9035\n",
            "Epoch 11/15\n",
            "48000/48000 [==============================] - 4s 87us/step - loss: 0.2817 - acc: 0.8952 - val_loss: 0.2555 - val_acc: 0.9024\n",
            "Epoch 12/15\n",
            "48000/48000 [==============================] - 4s 86us/step - loss: 0.2712 - acc: 0.9004 - val_loss: 0.2468 - val_acc: 0.9076\n",
            "Epoch 13/15\n",
            "48000/48000 [==============================] - 4s 85us/step - loss: 0.2678 - acc: 0.9000 - val_loss: 0.2417 - val_acc: 0.9110\n",
            "Epoch 14/15\n",
            "48000/48000 [==============================] - 4s 84us/step - loss: 0.2613 - acc: 0.9028 - val_loss: 0.2433 - val_acc: 0.9087\n",
            "Epoch 15/15\n",
            "48000/48000 [==============================] - 4s 85us/step - loss: 0.2529 - acc: 0.9061 - val_loss: 0.2423 - val_acc: 0.9107\n"
          ],
          "name": "stdout"
        },
        {
          "output_type": "execute_result",
          "data": {
            "text/plain": [
              "<keras.callbacks.History at 0x7f34ea511a90>"
            ]
          },
          "metadata": {
            "tags": []
          },
          "execution_count": 37
        }
      ]
    },
    {
      "cell_type": "code",
      "metadata": {
        "id": "m0dIQLij1CHE",
        "colab_type": "code",
        "colab": {
          "base_uri": "https://localhost:8080/",
          "height": 52
        },
        "outputId": "263d06e3-4115-4d68-d686-b7196b1e7f51"
      },
      "source": [
        "# Evaluate the model on test set\n",
        "cnn2_score = cnn2.evaluate(X_test_reshaped, y_test_cat)\n",
        "print(\"2-layer CNN accuracy on test set: \", cnn2_score[1])"
      ],
      "execution_count": 38,
      "outputs": [
        {
          "output_type": "stream",
          "text": [
            "10000/10000 [==============================] - 1s 50us/step\n",
            "2-layer CNN accuracy on test set:  0.9074\n"
          ],
          "name": "stdout"
        }
      ]
    },
    {
      "cell_type": "markdown",
      "metadata": {
        "id": "Mf1SQaZY1CHG",
        "colab_type": "text"
      },
      "source": [
        "The model score is lower than 1-layer CNN but no overfitting problem observed."
      ]
    },
    {
      "cell_type": "code",
      "metadata": {
        "id": "p6TKzFWJ1CHH",
        "colab_type": "code",
        "colab": {}
      },
      "source": [
        "# CNN with 3 convolutional layers\n",
        "cnn3 = Sequential()\n",
        "cnn3.add(Conv2D(32, kernel_size=(3, 3), activation='relu', input_shape=(28,28,1)))\n",
        "\n",
        "cnn3.add(Conv2D(64, kernel_size=(3, 3), activation='relu'))\n",
        "cnn3.add(MaxPooling2D(pool_size=(2, 2)))\n",
        "cnn3.add(Dropout(0.5))\n",
        "\n",
        "cnn3.add(Conv2D(128, kernel_size=(3, 3), activation='relu'))\n",
        "cnn3.add(MaxPooling2D(pool_size=(2, 2)))\n",
        "cnn3.add(Dropout(0.5))\n",
        "\n",
        "cnn3.add(Flatten())\n",
        "\n",
        "cnn3.add(Dense(128, activation='relu'))\n",
        "cnn3.add(Dense(10, activation='softmax'))\n",
        "\n",
        "cnn3.compile(loss='categorical_crossentropy',\n",
        "              optimizer='adam',\n",
        "              metrics=['accuracy'])"
      ],
      "execution_count": 0,
      "outputs": []
    },
    {
      "cell_type": "code",
      "metadata": {
        "id": "b7UP6EUo1CHJ",
        "colab_type": "code",
        "colab": {
          "base_uri": "https://localhost:8080/",
          "height": 592
        },
        "outputId": "ce4265ae-121c-48f1-9f42-eff4611a6df2"
      },
      "source": [
        "cnn3.fit(X_train_sub,\n",
        "         y_train_sub,\n",
        "         batch_size=64,\n",
        "         epochs=15,\n",
        "         validation_data=(X_val, y_val))"
      ],
      "execution_count": 40,
      "outputs": [
        {
          "output_type": "stream",
          "text": [
            "Train on 48000 samples, validate on 12000 samples\n",
            "Epoch 1/15\n",
            "48000/48000 [==============================] - 6s 132us/step - loss: 0.5636 - acc: 0.7915 - val_loss: 0.3717 - val_acc: 0.8697\n",
            "Epoch 2/15\n",
            "48000/48000 [==============================] - 6s 120us/step - loss: 0.3607 - acc: 0.8690 - val_loss: 0.3050 - val_acc: 0.8928\n",
            "Epoch 3/15\n",
            "48000/48000 [==============================] - 6s 119us/step - loss: 0.3082 - acc: 0.8864 - val_loss: 0.2625 - val_acc: 0.9064\n",
            "Epoch 4/15\n",
            "48000/48000 [==============================] - 6s 119us/step - loss: 0.2801 - acc: 0.8961 - val_loss: 0.2681 - val_acc: 0.9025\n",
            "Epoch 5/15\n",
            "48000/48000 [==============================] - 6s 121us/step - loss: 0.2595 - acc: 0.9034 - val_loss: 0.2341 - val_acc: 0.9175\n",
            "Epoch 6/15\n",
            "48000/48000 [==============================] - 6s 119us/step - loss: 0.2444 - acc: 0.9082 - val_loss: 0.2390 - val_acc: 0.9107\n",
            "Epoch 7/15\n",
            "48000/48000 [==============================] - 6s 120us/step - loss: 0.2316 - acc: 0.9135 - val_loss: 0.2250 - val_acc: 0.9183\n",
            "Epoch 8/15\n",
            "48000/48000 [==============================] - 6s 120us/step - loss: 0.2222 - acc: 0.9160 - val_loss: 0.2161 - val_acc: 0.9233\n",
            "Epoch 9/15\n",
            "48000/48000 [==============================] - 6s 120us/step - loss: 0.2117 - acc: 0.9216 - val_loss: 0.2120 - val_acc: 0.9217\n",
            "Epoch 10/15\n",
            "48000/48000 [==============================] - 6s 121us/step - loss: 0.2023 - acc: 0.9243 - val_loss: 0.2119 - val_acc: 0.9214\n",
            "Epoch 11/15\n",
            "48000/48000 [==============================] - 6s 120us/step - loss: 0.1952 - acc: 0.9263 - val_loss: 0.2025 - val_acc: 0.9259\n",
            "Epoch 12/15\n",
            "48000/48000 [==============================] - 6s 120us/step - loss: 0.1904 - acc: 0.9291 - val_loss: 0.2077 - val_acc: 0.9252\n",
            "Epoch 13/15\n",
            "48000/48000 [==============================] - 6s 119us/step - loss: 0.1831 - acc: 0.9325 - val_loss: 0.2022 - val_acc: 0.9289\n",
            "Epoch 14/15\n",
            "48000/48000 [==============================] - 6s 121us/step - loss: 0.1795 - acc: 0.9327 - val_loss: 0.1993 - val_acc: 0.9288\n",
            "Epoch 15/15\n",
            "48000/48000 [==============================] - 6s 121us/step - loss: 0.1739 - acc: 0.9354 - val_loss: 0.1985 - val_acc: 0.9303\n"
          ],
          "name": "stdout"
        },
        {
          "output_type": "execute_result",
          "data": {
            "text/plain": [
              "<keras.callbacks.History at 0x7f34d5a28470>"
            ]
          },
          "metadata": {
            "tags": []
          },
          "execution_count": 40
        }
      ]
    },
    {
      "cell_type": "code",
      "metadata": {
        "id": "D1XrbSbA1CHN",
        "colab_type": "code",
        "colab": {
          "base_uri": "https://localhost:8080/",
          "height": 52
        },
        "outputId": "50364080-d3f6-42ab-ddae-9b4c50286bcc"
      },
      "source": [
        "# Evaluate the model on test set\n",
        "cnn3_score = cnn3.evaluate(X_test_reshaped, y_test_cat)\n",
        "print(\"3-layer CNN accuracy on test set: \", cnn3_score[1])"
      ],
      "execution_count": 41,
      "outputs": [
        {
          "output_type": "stream",
          "text": [
            "10000/10000 [==============================] - 1s 59us/step\n",
            "3-layer CNN accuracy on test set:  0.925\n"
          ],
          "name": "stdout"
        }
      ]
    },
    {
      "cell_type": "markdown",
      "metadata": {
        "id": "tkvOO1ZV1CHT",
        "colab_type": "text"
      },
      "source": [
        "The accuracy of prediction on test set is higher.<br>\n",
        "<br>\n",
        "And the overfitting problem is acceptable.<br>\n",
        "<br>\n",
        "Now try to lower the dropout rate and see if we can get better performance."
      ]
    },
    {
      "cell_type": "code",
      "metadata": {
        "id": "cTpEw5Vf1CHU",
        "colab_type": "code",
        "colab": {}
      },
      "source": [
        "cnn3_1 = Sequential()\n",
        "\n",
        "cnn3_1.add(Conv2D(32, kernel_size=(3, 3), activation='relu', input_shape=(28,28,1)))\n",
        "\n",
        "cnn3_1.add(Conv2D(64, kernel_size=(3, 3), activation='relu'))\n",
        "cnn3_1.add(MaxPooling2D(pool_size=(2, 2)))\n",
        "cnn3_1.add(Dropout(0.2))\n",
        "\n",
        "cnn3_1.add(Conv2D(128, kernel_size=(3, 3), activation='relu'))\n",
        "cnn3_1.add(MaxPooling2D(pool_size=(2, 2)))\n",
        "cnn3_1.add(Dropout(0.5))\n",
        "\n",
        "cnn3_1.add(Flatten())\n",
        "\n",
        "cnn3_1.add(Dense(128, activation='relu'))\n",
        "cnn3_1.add(Dense(10, activation='softmax'))\n",
        "\n",
        "cnn3_1.compile(loss='categorical_crossentropy',\n",
        "              optimizer='adam',\n",
        "              metrics=['accuracy'])"
      ],
      "execution_count": 0,
      "outputs": []
    },
    {
      "cell_type": "code",
      "metadata": {
        "id": "9AFmP7iZ1CHh",
        "colab_type": "code",
        "colab": {
          "base_uri": "https://localhost:8080/",
          "height": 592
        },
        "outputId": "043e3584-355f-4999-cb93-fad6b690e2d8"
      },
      "source": [
        "cnn3_1.fit(X_train_sub,\n",
        "         y_train_sub,\n",
        "         batch_size=64,\n",
        "         epochs=15,\n",
        "         validation_data=(X_val, y_val))"
      ],
      "execution_count": 68,
      "outputs": [
        {
          "output_type": "stream",
          "text": [
            "Train on 48000 samples, validate on 12000 samples\n",
            "Epoch 1/15\n",
            "48000/48000 [==============================] - 7s 147us/step - loss: 0.5108 - acc: 0.8145 - val_loss: 0.3430 - val_acc: 0.8764\n",
            "Epoch 2/15\n",
            "48000/48000 [==============================] - 6s 123us/step - loss: 0.3225 - acc: 0.8803 - val_loss: 0.2881 - val_acc: 0.8963\n",
            "Epoch 3/15\n",
            "48000/48000 [==============================] - 6s 122us/step - loss: 0.2803 - acc: 0.8966 - val_loss: 0.2441 - val_acc: 0.9092\n",
            "Epoch 4/15\n",
            "48000/48000 [==============================] - 6s 121us/step - loss: 0.2513 - acc: 0.9055 - val_loss: 0.2348 - val_acc: 0.9154\n",
            "Epoch 5/15\n",
            "48000/48000 [==============================] - 6s 121us/step - loss: 0.2308 - acc: 0.9142 - val_loss: 0.2207 - val_acc: 0.9212\n",
            "Epoch 6/15\n",
            "48000/48000 [==============================] - 6s 121us/step - loss: 0.2166 - acc: 0.9196 - val_loss: 0.2179 - val_acc: 0.9207\n",
            "Epoch 7/15\n",
            "48000/48000 [==============================] - 6s 121us/step - loss: 0.2023 - acc: 0.9233 - val_loss: 0.2087 - val_acc: 0.9246\n",
            "Epoch 8/15\n",
            "48000/48000 [==============================] - 6s 124us/step - loss: 0.1906 - acc: 0.9284 - val_loss: 0.2056 - val_acc: 0.9245\n",
            "Epoch 9/15\n",
            "48000/48000 [==============================] - 6s 123us/step - loss: 0.1783 - acc: 0.9331 - val_loss: 0.2105 - val_acc: 0.9239\n",
            "Epoch 10/15\n",
            "48000/48000 [==============================] - 6s 120us/step - loss: 0.1693 - acc: 0.9368 - val_loss: 0.2087 - val_acc: 0.9219\n",
            "Epoch 11/15\n",
            "48000/48000 [==============================] - 6s 121us/step - loss: 0.1639 - acc: 0.9379 - val_loss: 0.2082 - val_acc: 0.9240\n",
            "Epoch 12/15\n",
            "48000/48000 [==============================] - 6s 120us/step - loss: 0.1522 - acc: 0.9418 - val_loss: 0.2074 - val_acc: 0.9253\n",
            "Epoch 13/15\n",
            "48000/48000 [==============================] - 6s 122us/step - loss: 0.1465 - acc: 0.9444 - val_loss: 0.2053 - val_acc: 0.9277\n",
            "Epoch 14/15\n",
            "48000/48000 [==============================] - 6s 121us/step - loss: 0.1413 - acc: 0.9465 - val_loss: 0.2064 - val_acc: 0.9293\n",
            "Epoch 15/15\n",
            "48000/48000 [==============================] - 6s 121us/step - loss: 0.1338 - acc: 0.9486 - val_loss: 0.1987 - val_acc: 0.9313\n"
          ],
          "name": "stdout"
        },
        {
          "output_type": "execute_result",
          "data": {
            "text/plain": [
              "<keras.callbacks.History at 0x7f348e5be0b8>"
            ]
          },
          "metadata": {
            "tags": []
          },
          "execution_count": 68
        }
      ]
    },
    {
      "cell_type": "code",
      "metadata": {
        "id": "CQAlO5661CHk",
        "colab_type": "code",
        "colab": {
          "base_uri": "https://localhost:8080/",
          "height": 52
        },
        "outputId": "4f2f3caf-4345-43a5-c6ac-e68cd8060062"
      },
      "source": [
        "# Evaluate the model on test set\n",
        "cnn3_1_score = cnn3_1.evaluate(X_test_reshaped, y_test_cat)\n",
        "print(\"3-layer CNN accuracy on test set: \", cnn3_1_score[1])"
      ],
      "execution_count": 69,
      "outputs": [
        {
          "output_type": "stream",
          "text": [
            "10000/10000 [==============================] - 1s 60us/step\n",
            "3-layer CNN accuracy on test set:  0.9279\n"
          ],
          "name": "stdout"
        }
      ]
    },
    {
      "cell_type": "markdown",
      "metadata": {
        "id": "7Ag1gFH6MZrG",
        "colab_type": "text"
      },
      "source": [
        "The accuracy on test is 92.8%, and accuracy on training set is 94.9%, cross-validation accuracy is 93.1%. The model is a little bit overfitting but still acceptable.\n",
        "\n",
        "Now let's check out the details on classification report."
      ]
    },
    {
      "cell_type": "code",
      "metadata": {
        "id": "n9UblwRy1CHp",
        "colab_type": "code",
        "colab": {}
      },
      "source": [
        "# assign cnn_3_1 to best_model\n",
        "\n",
        "best_model = cnn3_1\n",
        "\n",
        "# get the predictions for the test data\n",
        "predicted_classes = best_model.predict_classes(X_test_reshaped)\n",
        "\n",
        "# get the indices to be plotted\n",
        "correct = np.nonzero(predicted_classes==y_test)[0]\n",
        "incorrect = np.nonzero(predicted_classes!=y_test)[0]"
      ],
      "execution_count": 0,
      "outputs": []
    },
    {
      "cell_type": "code",
      "metadata": {
        "id": "NpM9peRj4Hf1",
        "colab_type": "code",
        "colab": {
          "base_uri": "https://localhost:8080/",
          "height": 503
        },
        "outputId": "a5b6cad4-078c-462e-c97c-d198e5814161"
      },
      "source": [
        "best_model.summary()"
      ],
      "execution_count": 71,
      "outputs": [
        {
          "output_type": "stream",
          "text": [
            "Model: \"sequential_11\"\n",
            "_________________________________________________________________\n",
            "Layer (type)                 Output Shape              Param #   \n",
            "=================================================================\n",
            "conv2d_26 (Conv2D)           (None, 26, 26, 32)        320       \n",
            "_________________________________________________________________\n",
            "conv2d_27 (Conv2D)           (None, 24, 24, 64)        18496     \n",
            "_________________________________________________________________\n",
            "max_pooling2d_19 (MaxPooling (None, 12, 12, 64)        0         \n",
            "_________________________________________________________________\n",
            "dropout_20 (Dropout)         (None, 12, 12, 64)        0         \n",
            "_________________________________________________________________\n",
            "conv2d_28 (Conv2D)           (None, 10, 10, 128)       73856     \n",
            "_________________________________________________________________\n",
            "max_pooling2d_20 (MaxPooling (None, 5, 5, 128)         0         \n",
            "_________________________________________________________________\n",
            "dropout_21 (Dropout)         (None, 5, 5, 128)         0         \n",
            "_________________________________________________________________\n",
            "flatten_11 (Flatten)         (None, 3200)              0         \n",
            "_________________________________________________________________\n",
            "dense_21 (Dense)             (None, 128)               409728    \n",
            "_________________________________________________________________\n",
            "dense_22 (Dense)             (None, 10)                1290      \n",
            "=================================================================\n",
            "Total params: 503,690\n",
            "Trainable params: 503,690\n",
            "Non-trainable params: 0\n",
            "_________________________________________________________________\n"
          ],
          "name": "stdout"
        }
      ]
    },
    {
      "cell_type": "code",
      "metadata": {
        "id": "tucOr75iYZIU",
        "colab_type": "code",
        "colab": {
          "base_uri": "https://localhost:8080/",
          "height": 312
        },
        "outputId": "8e5f89b4-1494-4671-acb2-5d9b78146196"
      },
      "source": [
        "from sklearn.metrics import classification_report\n",
        "\n",
        "target_names = [\"Class {}: {}\".format(i, label_names[i]) for i in range(10)]\n",
        "print(classification_report(y_test, predicted_classes, target_names=target_names))"
      ],
      "execution_count": 72,
      "outputs": [
        {
          "output_type": "stream",
          "text": [
            "                      precision    recall  f1-score   support\n",
            "\n",
            "Class 0: T-shirt/top       0.87      0.88      0.88      1000\n",
            "    Class 1: Trouser       0.99      0.99      0.99      1000\n",
            "   Class 2: Pullover       0.91      0.89      0.90      1000\n",
            "      Class 3: Dress       0.94      0.92      0.93      1000\n",
            "       Class 4: Coat       0.88      0.91      0.90      1000\n",
            "     Class 5: Sandal       0.99      0.98      0.99      1000\n",
            "      Class 6: Shirt       0.79      0.77      0.78      1000\n",
            "    Class 7: Sneaker       0.95      0.98      0.97      1000\n",
            "        Class 8: Bag       0.98      0.99      0.99      1000\n",
            " Class 9: Ankle boot       0.98      0.96      0.97      1000\n",
            "\n",
            "            accuracy                           0.93     10000\n",
            "           macro avg       0.93      0.93      0.93     10000\n",
            "        weighted avg       0.93      0.93      0.93     10000\n",
            "\n"
          ],
          "name": "stdout"
        }
      ]
    },
    {
      "cell_type": "markdown",
      "metadata": {
        "id": "TPhx5vlW1Ijr",
        "colab_type": "text"
      },
      "source": [
        "We can see that the model is not good at classify Shirt and T-shirt/top.\n",
        "\n",
        "Below are some example of images that have been incorrectly classified:"
      ]
    },
    {
      "cell_type": "code",
      "metadata": {
        "id": "l1THOYqoY3PB",
        "colab_type": "code",
        "colab": {
          "base_uri": "https://localhost:8080/",
          "height": 875
        },
        "outputId": "4d2149ce-ded5-4467-bd2b-0d32b85ea214"
      },
      "source": [
        "plt.figure(figsize=(15,15))\n",
        "for i in range(16):\n",
        "    plt.subplot(4,4,i+1)\n",
        "    plt.xticks([])\n",
        "    plt.yticks([])\n",
        "    plt.grid(False)\n",
        "    plt.imshow(x_test[incorrect[i]], cmap=plt.cm.binary)\n",
        "    plt.xlabel('True: {}\\n Predicted: {}'\n",
        "               .format(label_names[y_test[incorrect[i]]], label_names[predicted_classes[incorrect[i]]]))\n",
        "plt.show()"
      ],
      "execution_count": 73,
      "outputs": [
        {
          "output_type": "display_data",
          "data": {
            "image/png": "[encoded data removed]",
            "text/plain": [
              "<Figure size 1080x1080 with 16 Axes>"
            ]
          },
          "metadata": {
            "tags": []
          }
        }
      ]
    },
    {
      "cell_type": "code",
      "metadata": {
        "id": "UUeiTo3_z0hQ",
        "colab_type": "code",
        "colab": {}
      },
      "source": [
        ""
      ],
      "execution_count": 0,
      "outputs": []
    }
  ]
}